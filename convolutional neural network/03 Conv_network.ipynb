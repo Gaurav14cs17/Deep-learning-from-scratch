{
 "cells": [
  {
   "cell_type": "code",
   "execution_count": 1,
   "metadata": {},
   "outputs": [],
   "source": [
    "import tensorflow as tf"
   ]
  },
  {
   "cell_type": "code",
   "execution_count": 2,
   "metadata": {},
   "outputs": [],
   "source": [
    "num_classes = 10\n",
    "img_row , img_cols , num_channels = 28 , 28 , 1\n",
    "input_shape = (img_row , img_cols , num_channels)"
   ]
  },
  {
   "cell_type": "code",
   "execution_count": 3,
   "metadata": {},
   "outputs": [],
   "source": [
    "(X_train , Y_train),(X_test , Y_test )= tf.keras.datasets.mnist.load_data()"
   ]
  },
  {
   "cell_type": "code",
   "execution_count": 4,
   "metadata": {},
   "outputs": [],
   "source": [
    "(x_train, y_train), (x_test, y_test) = tf.keras.datasets.mnist.load_data()\n",
    "x_train, x_test = x_train / 255.0, x_test / 255.0\n",
    "\n",
    "x_train = x_train.reshape(x_train.shape[0], *input_shape)\n",
    "x_test = x_test.reshape(x_test.shape[0], *input_shape)"
   ]
  },
  {
   "cell_type": "code",
   "execution_count": 5,
   "metadata": {},
   "outputs": [],
   "source": [
    "input_tensor_traindata = X_train.reshape(X_train.shape[0] , 28 , 28 , 1)\n",
    "input_tensor_testdata  = X_test.reshape ( X_test.shape[0] , 28 , 28 , 1) "
   ]
  },
  {
   "cell_type": "code",
   "execution_count": 6,
   "metadata": {},
   "outputs": [
    {
     "data": {
      "text/plain": [
       "(60000, 28, 28, 1)"
      ]
     },
     "execution_count": 6,
     "metadata": {},
     "output_type": "execute_result"
    }
   ],
   "source": [
    "input_tensor_traindata.shape"
   ]
  },
  {
   "cell_type": "code",
   "execution_count": 7,
   "metadata": {},
   "outputs": [],
   "source": [
    "from tensorflow.keras import Model\n",
    "from tensorflow.keras.layers import Conv2D , MaxPooling2D , Flatten , Dense"
   ]
  },
  {
   "cell_type": "code",
   "execution_count": 8,
   "metadata": {},
   "outputs": [],
   "source": [
    "\n",
    "class LeNet5(Model):\n",
    "    \n",
    "    def __init__(self, num_classes):\n",
    "        super(LeNet5 , self).__init__()\n",
    "        self.conv1 = Conv2D(6 , kernel_size=(3,3) , padding='same' , activation='relu')\n",
    "        self.conv2 = Conv2D(16 , kernel_size=(3,3) , activation='relu')\n",
    "\n",
    "        self.max_pool = MaxPooling2D(pool_size=(2,2))\n",
    "\n",
    "        self.flatten = Flatten()\n",
    "        self.hidden_layer_1 = Dense(120 , activation='relu')\n",
    "        self.hidden_layer_2 = Dense(84 , activation='relu')\n",
    "        self.out_put_layer  = Dense(num_classes , activation='softmax')\n",
    "        \n",
    "    def call(self, inputs):\n",
    "        x = self.conv1(inputs)\n",
    "        x = self.max_pool(x)\n",
    "        \n",
    "        x = self.conv2(x)\n",
    "        x = self.max_pool(x)\n",
    "        \n",
    "        x = self.flatten(x)\n",
    "        x = self.hidden_layer_1(x)\n",
    "        x = self.hidden_layer_2(x)\n",
    "        x = self.out_put_layer(x)\n",
    "        return x\n",
    "    \n",
    "    \n",
    "    \n",
    "    \n",
    "    "
   ]
  },
  {
   "cell_type": "code",
   "execution_count": 9,
   "metadata": {},
   "outputs": [],
   "source": [
    "model = LeNet5(num_classes)"
   ]
  },
  {
   "cell_type": "code",
   "execution_count": 10,
   "metadata": {},
   "outputs": [],
   "source": [
    "loss = 'sparse_categorical_crossentropy'\n",
    "optimizer = 'sgd'\n",
    "metrics  = 'accuracy'"
   ]
  },
  {
   "cell_type": "code",
   "execution_count": 11,
   "metadata": {},
   "outputs": [],
   "source": [
    "model.compile(optimizer=optimizer , loss=loss , metrics=['accuracy'])"
   ]
  },
  {
   "cell_type": "code",
   "execution_count": 12,
   "metadata": {},
   "outputs": [],
   "source": [
    "batched_input_shape = tf.TensorShape((None , *input_shape))\n",
    "model.build(input_shape=batched_input_shape)"
   ]
  },
  {
   "cell_type": "code",
   "execution_count": 13,
   "metadata": {},
   "outputs": [
    {
     "name": "stdout",
     "output_type": "stream",
     "text": [
      "Model: \"le_net5\"\n",
      "_________________________________________________________________\n",
      "Layer (type)                 Output Shape              Param #   \n",
      "=================================================================\n",
      "conv2d (Conv2D)              multiple                  60        \n",
      "_________________________________________________________________\n",
      "conv2d_1 (Conv2D)            multiple                  880       \n",
      "_________________________________________________________________\n",
      "max_pooling2d (MaxPooling2D) multiple                  0         \n",
      "_________________________________________________________________\n",
      "flatten (Flatten)            multiple                  0         \n",
      "_________________________________________________________________\n",
      "dense (Dense)                multiple                  69240     \n",
      "_________________________________________________________________\n",
      "dense_1 (Dense)              multiple                  10164     \n",
      "_________________________________________________________________\n",
      "dense_2 (Dense)              multiple                  850       \n",
      "=================================================================\n",
      "Total params: 81,194\n",
      "Trainable params: 81,194\n",
      "Non-trainable params: 0\n",
      "_________________________________________________________________\n"
     ]
    }
   ],
   "source": [
    "model.summary()"
   ]
  },
  {
   "cell_type": "code",
   "execution_count": 14,
   "metadata": {},
   "outputs": [],
   "source": [
    "callbacks = [\n",
    "    # Callback to interrupt the training if the validation loss (`val_loss`) stops improving for over 3 epochs:\n",
    "    tf.keras.callbacks.EarlyStopping(patience=5, monitor='val_loss'),\n",
    "    # Callback to log the graph, losses and metrics into TensorBoard (saving log files in `./logs` directory):\n",
    "    tf.keras.callbacks.TensorBoard(log_dir='./logs', histogram_freq=1, write_graph=True)]"
   ]
  },
  {
   "cell_type": "code",
   "execution_count": 15,
   "metadata": {},
   "outputs": [
    {
     "name": "stdout",
     "output_type": "stream",
     "text": [
      "Train on 60000 samples, validate on 10000 samples\n",
      "Epoch 1/8\n",
      "60000/60000 - 24s - loss: 0.6968 - accuracy: 0.7857 - val_loss: 0.1638 - val_accuracy: 0.9470\n",
      "Epoch 2/8\n",
      "60000/60000 - 22s - loss: 0.1471 - accuracy: 0.9553 - val_loss: 0.1102 - val_accuracy: 0.9658\n",
      "Epoch 3/8\n",
      "60000/60000 - 22s - loss: 0.1024 - accuracy: 0.9679 - val_loss: 0.0852 - val_accuracy: 0.9732\n",
      "Epoch 4/8\n",
      "60000/60000 - 23s - loss: 0.0820 - accuracy: 0.9746 - val_loss: 0.0746 - val_accuracy: 0.9746\n",
      "Epoch 5/8\n",
      "60000/60000 - 22s - loss: 0.0713 - accuracy: 0.9779 - val_loss: 0.0568 - val_accuracy: 0.9816\n",
      "Epoch 6/8\n",
      "60000/60000 - 22s - loss: 0.0618 - accuracy: 0.9808 - val_loss: 0.0645 - val_accuracy: 0.9803\n",
      "Epoch 7/8\n",
      "60000/60000 - 22s - loss: 0.0555 - accuracy: 0.9828 - val_loss: 0.0528 - val_accuracy: 0.9838\n",
      "Epoch 8/8\n",
      "60000/60000 - 22s - loss: 0.0495 - accuracy: 0.9847 - val_loss: 0.0486 - val_accuracy: 0.9839\n"
     ]
    }
   ],
   "source": [
    "history = model.fit(x_train , y_train , batch_size=32, epochs=8, validation_data=(x_test, y_test), \n",
    "                    verbose=2,  # change to `verbose=1` to get a progress bar\n",
    "                                # (we opt for `verbose=2` here to reduce the log size)\n",
    "                   )#callbacks=callbacks)"
   ]
  },
  {
   "cell_type": "code",
   "execution_count": null,
   "metadata": {},
   "outputs": [],
   "source": []
  }
 ],
 "metadata": {
  "kernelspec": {
   "display_name": "Python 3",
   "language": "python",
   "name": "python3"
  },
  "language_info": {
   "codemirror_mode": {
    "name": "ipython",
    "version": 3
   },
   "file_extension": ".py",
   "mimetype": "text/x-python",
   "name": "python",
   "nbconvert_exporter": "python",
   "pygments_lexer": "ipython3",
   "version": "3.7.4"
  }
 },
 "nbformat": 4,
 "nbformat_minor": 2
}
