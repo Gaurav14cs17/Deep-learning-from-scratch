{
 "cells": [
  {
   "cell_type": "code",
   "execution_count": 1,
   "metadata": {},
   "outputs": [],
   "source": [
    "import tensorflow as tf"
   ]
  },
  {
   "cell_type": "code",
   "execution_count": 2,
   "metadata": {},
   "outputs": [],
   "source": [
    "num_classes = 10\n",
    "img_row , img_cols , num_channels = 28 , 28 , 1\n",
    "input_shape = (img_row , img_cols , num_channels)"
   ]
  },
  {
   "cell_type": "code",
   "execution_count": 6,
   "metadata": {},
   "outputs": [],
   "source": [
    "(X_train , Y_train ) , ( X_test , Y_test ) = tf.keras.datasets.mnist.load_data()"
   ]
  },
  {
   "cell_type": "code",
   "execution_count": 7,
   "metadata": {},
   "outputs": [
    {
     "data": {
      "text/plain": [
       "(60000, 28, 28)"
      ]
     },
     "execution_count": 7,
     "metadata": {},
     "output_type": "execute_result"
    }
   ],
   "source": [
    "X_train.shape"
   ]
  },
  {
   "cell_type": "code",
   "execution_count": 8,
   "metadata": {},
   "outputs": [
    {
     "data": {
      "text/plain": [
       "(10000, 28, 28)"
      ]
     },
     "execution_count": 8,
     "metadata": {},
     "output_type": "execute_result"
    }
   ],
   "source": [
    "X_test.shape"
   ]
  },
  {
   "cell_type": "code",
   "execution_count": 9,
   "metadata": {},
   "outputs": [],
   "source": [
    "X_train ,  X_test = X_train/255.0 , X_test/255.0"
   ]
  },
  {
   "cell_type": "code",
   "execution_count": 17,
   "metadata": {},
   "outputs": [],
   "source": [
    "train_input_shape = X_train.reshape(X_train.shape[0] , 28 , 28 , 1 )"
   ]
  },
  {
   "cell_type": "code",
   "execution_count": 18,
   "metadata": {},
   "outputs": [],
   "source": [
    "test_input_shape  = X_test.reshape(X_test.shape[0] , 28 , 28 , 1 )"
   ]
  },
  {
   "cell_type": "code",
   "execution_count": 20,
   "metadata": {},
   "outputs": [
    {
     "data": {
      "text/plain": [
       "(10000, 28, 28, 1)"
      ]
     },
     "execution_count": 20,
     "metadata": {},
     "output_type": "execute_result"
    }
   ],
   "source": [
    "test_input_shape.shape"
   ]
  },
  {
   "cell_type": "code",
   "execution_count": 21,
   "metadata": {},
   "outputs": [],
   "source": [
    "class SimpleConvolutionLayer(tf.keras.layers.Layer):\n",
    "    \n",
    "    def __init__(self, num_kernels = 32 , kernal_size = (3 , 3) , strides = (1, 1) , use_bias = True):\n",
    "        \n",
    "        super.__init__()\n",
    "        self.num_kernels = num_kernels\n",
    "        self.kernal_size = kernal_size\n",
    "        self.strides = strides\n",
    "        self.use_bias = use_bias\n",
    "        \n",
    "    def build(self , input_shape ):\n",
    "        \n",
    "        num_channels = input_shape.shape[-1]\n",
    "        kernals_shape = (*self.kernals_shape , num_channels , self.num_kernels)\n",
    "        \n",
    "        glorot_uni_initializer = tf.initializers.GlorotUniform()\n",
    "        \n",
    "        self.kerals = self.add_weight( name = 'kernal' ,\n",
    "                                     shape = kernals_shape,\n",
    "                                     initializers = glorot_uni_initializer,\n",
    "                                    trainable = True)\n",
    "        if self.use_bias:\n",
    "            self.bias = self.add_weight(name = 'bias' ,\n",
    "                                       shape = (self.num_kernels ,),\n",
    "                                       initializers = 'random_normal',\n",
    "                                       trainable = True)\n",
    "            \n",
    "            \n",
    "            def call(self, inputs ):\n",
    "                z =  tf.nn.conv2d(inputs , self.kerals , strides=[1,*self.strides,1], padding='same' )\n",
    "                if self.use_bias:\n",
    "                    z = z + self.bias\n",
    "                z = tf.nn.relu(z)\n",
    "                return z\n",
    "            \n",
    "            def get_config(self):\n",
    "                return {\n",
    "                    'num_kernal' : self.num_kernels,\n",
    "                    'kernel_size' : self.kernal_size,\n",
    "                    'strides' : self.strides,\n",
    "                    'use_bias' : self.use_bias\n",
    "                }\n",
    "                                        \n",
    "        "
   ]
  },
  {
   "cell_type": "code",
   "execution_count": null,
   "metadata": {},
   "outputs": [],
   "source": []
  }
 ],
 "metadata": {
  "kernelspec": {
   "display_name": "Python 3",
   "language": "python",
   "name": "python3"
  },
  "language_info": {
   "codemirror_mode": {
    "name": "ipython",
    "version": 3
   },
   "file_extension": ".py",
   "mimetype": "text/x-python",
   "name": "python",
   "nbconvert_exporter": "python",
   "pygments_lexer": "ipython3",
   "version": "3.7.4"
  }
 },
 "nbformat": 4,
 "nbformat_minor": 2
}
